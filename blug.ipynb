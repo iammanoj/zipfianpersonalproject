{
 "metadata": {
  "name": ""
 },
 "nbformat": 3,
 "nbformat_minor": 0,
 "worksheets": [
  {
   "cells": [
    {
     "cell_type": "code",
     "collapsed": false,
     "input": [
      "import etl\n",
      "import pandas as pd\n",
      "from ggplot import *\n",
      "import time\n",
      "import datetime\n",
      "import matplotlib.pyplot as plt\n",
      "%pylab inline"
     ],
     "language": "python",
     "metadata": {},
     "outputs": [
      {
       "output_type": "stream",
       "stream": "stdout",
       "text": [
        "Populating the interactive namespace from numpy and matplotlib\n"
       ]
      },
      {
       "output_type": "stream",
       "stream": "stderr",
       "text": [
        "WARNING: pylab import has clobbered these variables: ['colors', 'f', 'xlim', 'ylim']\n",
        "`%pylab --no-import-all` prevents importing * from pylab and numpy\n"
       ]
      }
     ],
     "prompt_number": 30
    },
    {
     "cell_type": "code",
     "collapsed": false,
     "input": [
      "reload(etl)\n",
      "df1 = etl.main('jsonout/0.json')\n",
      "#df1 = df1.append(etl.main('jsonout/5000.json'), ignore_index = True)\n",
      "#df1 = df1.append(etl.main('jsonout/10000.json'),ignore_index = True)\n",
      "#df1 = df1.append(etl.main('jsonout/15000.json'),ignore_index = True)\n",
      "#df1 = df1.append(etl.main('jsonout/20000.json'),ignore_index = True)\n",
      "#df1 = df1.append(etl.main('jsonout/25000.json'),ignore_index = True)"
     ],
     "language": "python",
     "metadata": {},
     "outputs": [
      {
       "output_type": "stream",
       "stream": "stdout",
       "text": [
        "> /Users/paul/Zipfian/personal_project/etl.py(201)main()\n",
        "-> if isinstance(master[key], str):\n"
       ]
      }
     ],
     "prompt_number": "*"
    },
    {
     "cell_type": "code",
     "collapsed": false,
     "input": [
      "to_time = ['registered', 'recent_date1', 'recent_date2','recent_date3', 'recent_date4', 'recent_date5']\n",
      "for col in to_time:\n",
      "    df1[col] = pd.to_datetime(df1[col])"
     ],
     "language": "python",
     "metadata": {},
     "outputs": [],
     "prompt_number": 339
    },
    {
     "cell_type": "code",
     "collapsed": false,
     "input": [
      "df1[df1['subscriber'] == 1].describe()\n"
     ],
     "language": "python",
     "metadata": {},
     "outputs": [
      {
       "html": [
        "<div style=\"max-height:1000px;max-width:1500px;overflow:auto;\">\n",
        "<table border=\"1\" class=\"dataframe\">\n",
        "  <thead>\n",
        "    <tr style=\"text-align: right;\">\n",
        "      <th></th>\n",
        "      <th>age</th>\n",
        "      <th>event_count</th>\n",
        "      <th>friend_count</th>\n",
        "      <th>image</th>\n",
        "      <th>playcount</th>\n",
        "      <th>playlists</th>\n",
        "      <th>subscriber</th>\n",
        "    </tr>\n",
        "  </thead>\n",
        "  <tbody>\n",
        "    <tr>\n",
        "      <th>count</th>\n",
        "      <td> 30.000000</td>\n",
        "      <td> 60.000000</td>\n",
        "      <td> 60.000000</td>\n",
        "      <td>        60</td>\n",
        "      <td>     60.000000</td>\n",
        "      <td> 60.000000</td>\n",
        "      <td> 60</td>\n",
        "    </tr>\n",
        "    <tr>\n",
        "      <th>mean</th>\n",
        "      <td> 34.466667</td>\n",
        "      <td>  0.133333</td>\n",
        "      <td> 17.166667</td>\n",
        "      <td> 0.7333333</td>\n",
        "      <td>  32606.400000</td>\n",
        "      <td>  0.833333</td>\n",
        "      <td>  1</td>\n",
        "    </tr>\n",
        "    <tr>\n",
        "      <th>std</th>\n",
        "      <td> 11.743621</td>\n",
        "      <td>  0.566484</td>\n",
        "      <td> 20.845002</td>\n",
        "      <td> 0.4459485</td>\n",
        "      <td>  39283.118666</td>\n",
        "      <td>  1.277798</td>\n",
        "      <td>  0</td>\n",
        "    </tr>\n",
        "    <tr>\n",
        "      <th>min</th>\n",
        "      <td> 19.000000</td>\n",
        "      <td>  0.000000</td>\n",
        "      <td>  0.000000</td>\n",
        "      <td>     False</td>\n",
        "      <td>     45.000000</td>\n",
        "      <td>  0.000000</td>\n",
        "      <td>  1</td>\n",
        "    </tr>\n",
        "    <tr>\n",
        "      <th>25%</th>\n",
        "      <td> 25.750000</td>\n",
        "      <td>  0.000000</td>\n",
        "      <td>  0.000000</td>\n",
        "      <td>         0</td>\n",
        "      <td>   4059.000000</td>\n",
        "      <td>  0.000000</td>\n",
        "      <td>  1</td>\n",
        "    </tr>\n",
        "    <tr>\n",
        "      <th>50%</th>\n",
        "      <td> 32.000000</td>\n",
        "      <td>  0.000000</td>\n",
        "      <td>  5.000000</td>\n",
        "      <td>         1</td>\n",
        "      <td>  13608.000000</td>\n",
        "      <td>  1.000000</td>\n",
        "      <td>  1</td>\n",
        "    </tr>\n",
        "    <tr>\n",
        "      <th>75%</th>\n",
        "      <td> 45.500000</td>\n",
        "      <td>  0.000000</td>\n",
        "      <td> 44.000000</td>\n",
        "      <td>         1</td>\n",
        "      <td>  54492.000000</td>\n",
        "      <td>  1.000000</td>\n",
        "      <td>  1</td>\n",
        "    </tr>\n",
        "    <tr>\n",
        "      <th>max</th>\n",
        "      <td> 58.000000</td>\n",
        "      <td>  3.000000</td>\n",
        "      <td> 50.000000</td>\n",
        "      <td>      True</td>\n",
        "      <td> 165387.000000</td>\n",
        "      <td>  7.000000</td>\n",
        "      <td>  1</td>\n",
        "    </tr>\n",
        "  </tbody>\n",
        "</table>\n",
        "</div>"
       ],
       "metadata": {},
       "output_type": "pyout",
       "prompt_number": 340,
       "text": [
        "             age  event_count  friend_count      image      playcount  playlists  subscriber\n",
        "count  30.000000    60.000000     60.000000         60      60.000000  60.000000          60\n",
        "mean   34.466667     0.133333     17.166667  0.7333333   32606.400000   0.833333           1\n",
        "std    11.743621     0.566484     20.845002  0.4459485   39283.118666   1.277798           0\n",
        "min    19.000000     0.000000      0.000000      False      45.000000   0.000000           1\n",
        "25%    25.750000     0.000000      0.000000          0    4059.000000   0.000000           1\n",
        "50%    32.000000     0.000000      5.000000          1   13608.000000   1.000000           1\n",
        "75%    45.500000     0.000000     44.000000          1   54492.000000   1.000000           1\n",
        "max    58.000000     3.000000     50.000000       True  165387.000000   7.000000           1"
       ]
      }
     ],
     "prompt_number": 340
    },
    {
     "cell_type": "code",
     "collapsed": false,
     "input": [
      "today = pd.Series(pd.to_datetime('01 Nov 2011, 00:00'), index = df1.index)\n",
      "recent = today - df1['recent_date1']\n",
      "mask = recent < 30\n",
      "recent_df = df1[mask]"
     ],
     "language": "python",
     "metadata": {},
     "outputs": [],
     "prompt_number": 314
    },
    {
     "cell_type": "code",
     "collapsed": false,
     "input": [
      "ggplot(aes(x = 'registered', y = 'age', color = 'subscriber'), data = df1) + geom_point()"
     ],
     "language": "python",
     "metadata": {},
     "outputs": [
      {
       "metadata": {},
       "output_type": "pyout",
       "prompt_number": 410,
       "text": [
        "<ggplot: (299365093)>"
       ]
      },
      {
       "metadata": {},
       "output_type": "display_data",
       "png": "[encoded data removed]",
       "text": [
        "<matplotlib.figure.Figure at 0x1113a6d10>"
       ]
      }
     ],
     "prompt_number": 410
    },
    {
     "cell_type": "code",
     "collapsed": false,
     "input": [
      "scribed_grouped = subscribed['playcount'].groupby([subscribed['tag1'],subscribed['subscriber']])\n",
      "unscribed_grouped = unsubscribed['playcount'].groupby([unsubscribed['tag1'],unsubscribed['subscriber']])"
     ],
     "language": "python",
     "metadata": {},
     "outputs": [],
     "prompt_number": 400
    },
    {
     "cell_type": "code",
     "collapsed": false,
     "input": [
      "scribed_avg = scribed_grouped.aggregate(np.sum)\n",
      "unscribed_avg = unscribed_grouped.aggregate(np.sum)\n",
      "scribed_sorted= scribed_avg.copy()\n",
      "unscribed_sorted= unscribed_avg.copy()\n",
      "scribed_sorted.sort(axis = 0, ascending = False)\n",
      "unscribed_sorted.sort(axis = 0, ascending = False)\n"
     ],
     "language": "python",
     "metadata": {},
     "outputs": [],
     "prompt_number": 404
    },
    {
     "cell_type": "code",
     "collapsed": false,
     "input": [
      "print scribed_sorted[1:10]"
     ],
     "language": "python",
     "metadata": {},
     "outputs": [
      {
       "output_type": "stream",
       "stream": "stdout",
       "text": [
        "tag1               subscriber\n",
        "rap                1             330774\n",
        "rock               1             287912\n",
        "Progressive rock   1             153108\n",
        "indie              1             141788\n",
        "britpop            1             115390\n",
        "electronic         1             113226\n",
        "singer-songwriter  1             108984\n",
        "classic rock       1              79654\n",
        "reggae             1              68438\n",
        "dtype: int64\n"
       ]
      }
     ],
     "prompt_number": 405
    },
    {
     "cell_type": "code",
     "collapsed": false,
     "input": [
      "print unscribed_sorted[1:10]"
     ],
     "language": "python",
     "metadata": {},
     "outputs": [
      {
       "output_type": "stream",
       "stream": "stdout",
       "text": [
        "tag1              subscriber\n",
        "rock              0             8746512\n",
        "electronic        0             5157910\n",
        "pop               0             4624542\n",
        "Hip-Hop           0             4339508\n",
        "classic rock      0             4032960\n",
        "alternative       0             2647868\n",
        "Progressive rock  0             2510646\n",
        "punk rock         0             2466330\n",
        "post-hardcore     0             2300704\n",
        "dtype: int64\n"
       ]
      }
     ],
     "prompt_number": 406
    },
    {
     "cell_type": "code",
     "collapsed": false,
     "input": [
      "plt.figure(figsize = (10,16));sorted_sum[1:50].plot(kind='bar')"
     ],
     "language": "python",
     "metadata": {},
     "outputs": [
      {
       "metadata": {},
       "output_type": "pyout",
       "prompt_number": 385,
       "text": [
        "<matplotlib.axes.AxesSubplot at 0x113906190>"
       ]
      },
      {
       "metadata": {},
       "output_type": "display_data",
       "png": "[encoded data removed]",
       "text": [
        "<matplotlib.figure.Figure at 0x12499c410>"
       ]
      }
     ],
     "prompt_number": 385
    },
    {
     "cell_type": "code",
     "collapsed": false,
     "input": [
      "from sklearn.linear_model import LogisticRegression"
     ],
     "language": "python",
     "metadata": {},
     "outputs": [],
     "prompt_number": 425
    },
    {
     "cell_type": "code",
     "collapsed": false,
     "input": [
      "ignore = ('subscriber','playcount','recent_date1','recent_date2',\n",
      " 'recent_date3','recent_date4','recent_date5','registered')\n",
      "keep = [col for col in df1.columns if col not in ignore]\n",
      "df1_training = df1[keep]\n",
      "df1_target = df1['subscriber']\n",
      "df1_training"
     ],
     "language": "python",
     "metadata": {},
     "outputs": [
      {
       "html": [
        "<pre>\n",
        "&lt;class 'pandas.core.frame.DataFrame'&gt;\n",
        "Int64Index: 45730 entries, 0 to 45729\n",
        "Data columns (total 33 columns):\n",
        "age               5972  non-null values\n",
        "country           7504  non-null values\n",
        "event_count       45730  non-null values\n",
        "friend_count      45730  non-null values\n",
        "gender            11072  non-null values\n",
        "id                45730  non-null values\n",
        "image             45730  non-null values\n",
        "playlists         45730  non-null values\n",
        "recent_artist1    26972  non-null values\n",
        "recent_artist2    24604  non-null values\n",
        "recent_artist3    23450  non-null values\n",
        "recent_artist4    22630  non-null values\n",
        "recent_artist5    21948  non-null values\n",
        "recent_track1     26972  non-null values\n",
        "recent_track2     24604  non-null values\n",
        "recent_track3     23450  non-null values\n",
        "recent_track4     22630  non-null values\n",
        "recent_track5     21948  non-null values\n",
        "tag1              27036  non-null values\n",
        "tag2              24214  non-null values\n",
        "tag3              22716  non-null values\n",
        "tag4              21644  non-null values\n",
        "tag5              20762  non-null values\n",
        "top_artist1       26074  non-null values\n",
        "top_artist2       23526  non-null values\n",
        "top_artist3       22276  non-null values\n",
        "top_artist4       21452  non-null values\n",
        "top_artist5       20762  non-null values\n",
        "top_count1        26074  non-null values\n",
        "top_count2        23526  non-null values\n",
        "top_count3        22276  non-null values\n",
        "top_count4        21452  non-null values\n",
        "top_count5        20762  non-null values\n",
        "dtypes: bool(1), float64(1), int64(3), object(28)\n",
        "</pre>"
       ],
       "metadata": {},
       "output_type": "pyout",
       "prompt_number": 455,
       "text": [
        "<class 'pandas.core.frame.DataFrame'>\n",
        "Int64Index: 45730 entries, 0 to 45729\n",
        "Data columns (total 33 columns):\n",
        "age               5972  non-null values\n",
        "country           7504  non-null values\n",
        "event_count       45730  non-null values\n",
        "friend_count      45730  non-null values\n",
        "gender            11072  non-null values\n",
        "id                45730  non-null values\n",
        "image             45730  non-null values\n",
        "playlists         45730  non-null values\n",
        "recent_artist1    26972  non-null values\n",
        "recent_artist2    24604  non-null values\n",
        "recent_artist3    23450  non-null values\n",
        "recent_artist4    22630  non-null values\n",
        "recent_artist5    21948  non-null values\n",
        "recent_track1     26972  non-null values\n",
        "recent_track2     24604  non-null values\n",
        "recent_track3     23450  non-null values\n",
        "recent_track4     22630  non-null values\n",
        "recent_track5     21948  non-null values\n",
        "tag1              27036  non-null values\n",
        "tag2              24214  non-null values\n",
        "tag3              22716  non-null values\n",
        "tag4              21644  non-null values\n",
        "tag5              20762  non-null values\n",
        "top_artist1       26074  non-null values\n",
        "top_artist2       23526  non-null values\n",
        "top_artist3       22276  non-null values\n",
        "top_artist4       21452  non-null values\n",
        "top_artist5       20762  non-null values\n",
        "top_count1        26074  non-null values\n",
        "top_count2        23526  non-null values\n",
        "top_count3        22276  non-null values\n",
        "top_count4        21452  non-null values\n",
        "top_count5        20762  non-null values\n",
        "dtypes: bool(1), float64(1), int64(3), object(28)"
       ]
      }
     ],
     "prompt_number": 455
    },
    {
     "cell_type": "code",
     "collapsed": false,
     "input": [
      "reg = LogisticRegression()\n",
      "model = reg.fit_transform(df1_training, df1_target)"
     ],
     "language": "python",
     "metadata": {},
     "outputs": [
      {
       "ename": "ValueError",
       "evalue": "could not convert string to float: Thierry David",
       "output_type": "pyerr",
       "traceback": [
        "\u001b[0;31m---------------------------------------------------------------------------\u001b[0m\n\u001b[0;31mValueError\u001b[0m                                Traceback (most recent call last)",
        "\u001b[0;32m<ipython-input-456-be930ecdce4b>\u001b[0m in \u001b[0;36m<module>\u001b[0;34m()\u001b[0m\n\u001b[1;32m      1\u001b[0m \u001b[0mreg\u001b[0m \u001b[0;34m=\u001b[0m \u001b[0mLogisticRegression\u001b[0m\u001b[0;34m(\u001b[0m\u001b[0;34m)\u001b[0m\u001b[0;34m\u001b[0m\u001b[0m\n\u001b[0;32m----> 2\u001b[0;31m \u001b[0mmodel\u001b[0m \u001b[0;34m=\u001b[0m \u001b[0mreg\u001b[0m\u001b[0;34m.\u001b[0m\u001b[0mfit_transform\u001b[0m\u001b[0;34m(\u001b[0m\u001b[0mdf1_training\u001b[0m\u001b[0;34m,\u001b[0m \u001b[0mdf1_target\u001b[0m\u001b[0;34m)\u001b[0m\u001b[0;34m\u001b[0m\u001b[0m\n\u001b[0m",
        "\u001b[0;32m/Users/paul/anaconda/python.app/Contents/lib/python2.7/site-packages/sklearn/base.pyc\u001b[0m in \u001b[0;36mfit_transform\u001b[0;34m(self, X, y, **fit_params)\u001b[0m\n\u001b[1;32m    409\u001b[0m         \u001b[0;32melse\u001b[0m\u001b[0;34m:\u001b[0m\u001b[0;34m\u001b[0m\u001b[0m\n\u001b[1;32m    410\u001b[0m             \u001b[0;31m# fit method of arity 2 (supervised transformation)\u001b[0m\u001b[0;34m\u001b[0m\u001b[0;34m\u001b[0m\u001b[0m\n\u001b[0;32m--> 411\u001b[0;31m             \u001b[0;32mreturn\u001b[0m \u001b[0mself\u001b[0m\u001b[0;34m.\u001b[0m\u001b[0mfit\u001b[0m\u001b[0;34m(\u001b[0m\u001b[0mX\u001b[0m\u001b[0;34m,\u001b[0m \u001b[0my\u001b[0m\u001b[0;34m,\u001b[0m \u001b[0;34m**\u001b[0m\u001b[0mfit_params\u001b[0m\u001b[0;34m)\u001b[0m\u001b[0;34m.\u001b[0m\u001b[0mtransform\u001b[0m\u001b[0;34m(\u001b[0m\u001b[0mX\u001b[0m\u001b[0;34m)\u001b[0m\u001b[0;34m\u001b[0m\u001b[0m\n\u001b[0m\u001b[1;32m    412\u001b[0m \u001b[0;34m\u001b[0m\u001b[0m\n\u001b[1;32m    413\u001b[0m \u001b[0;34m\u001b[0m\u001b[0m\n",
        "\u001b[0;32m/Users/paul/anaconda/python.app/Contents/lib/python2.7/site-packages/sklearn/svm/base.pyc\u001b[0m in \u001b[0;36mfit\u001b[0;34m(self, X, y)\u001b[0m\n\u001b[1;32m    666\u001b[0m                              \" one.\")\n\u001b[1;32m    667\u001b[0m \u001b[0;34m\u001b[0m\u001b[0m\n\u001b[0;32m--> 668\u001b[0;31m         \u001b[0mX\u001b[0m \u001b[0;34m=\u001b[0m \u001b[0matleast2d_or_csr\u001b[0m\u001b[0;34m(\u001b[0m\u001b[0mX\u001b[0m\u001b[0;34m,\u001b[0m \u001b[0mdtype\u001b[0m\u001b[0;34m=\u001b[0m\u001b[0mnp\u001b[0m\u001b[0;34m.\u001b[0m\u001b[0mfloat64\u001b[0m\u001b[0;34m,\u001b[0m \u001b[0morder\u001b[0m\u001b[0;34m=\u001b[0m\u001b[0;34m\"C\"\u001b[0m\u001b[0;34m)\u001b[0m\u001b[0;34m\u001b[0m\u001b[0m\n\u001b[0m\u001b[1;32m    669\u001b[0m \u001b[0;34m\u001b[0m\u001b[0m\n\u001b[1;32m    670\u001b[0m         self.class_weight_ = compute_class_weight(self.class_weight,\n",
        "\u001b[0;32m/Users/paul/anaconda/python.app/Contents/lib/python2.7/site-packages/sklearn/utils/validation.pyc\u001b[0m in \u001b[0;36matleast2d_or_csr\u001b[0;34m(X, dtype, order, copy, force_all_finite)\u001b[0m\n\u001b[1;32m    132\u001b[0m     \"\"\"\n\u001b[1;32m    133\u001b[0m     return _atleast2d_or_sparse(X, dtype, order, copy, sparse.csr_matrix,\n\u001b[0;32m--> 134\u001b[0;31m                                 \"tocsr\", force_all_finite)\n\u001b[0m\u001b[1;32m    135\u001b[0m \u001b[0;34m\u001b[0m\u001b[0m\n\u001b[1;32m    136\u001b[0m \u001b[0;34m\u001b[0m\u001b[0m\n",
        "\u001b[0;32m/Users/paul/anaconda/python.app/Contents/lib/python2.7/site-packages/sklearn/utils/validation.pyc\u001b[0m in \u001b[0;36m_atleast2d_or_sparse\u001b[0;34m(X, dtype, order, copy, sparse_class, convmethod, force_all_finite)\u001b[0m\n\u001b[1;32m    109\u001b[0m     \u001b[0;32melse\u001b[0m\u001b[0;34m:\u001b[0m\u001b[0;34m\u001b[0m\u001b[0m\n\u001b[1;32m    110\u001b[0m         X = array2d(X, dtype=dtype, order=order, copy=copy,\n\u001b[0;32m--> 111\u001b[0;31m                     force_all_finite=force_all_finite)\n\u001b[0m\u001b[1;32m    112\u001b[0m         \u001b[0;32mif\u001b[0m \u001b[0mforce_all_finite\u001b[0m\u001b[0;34m:\u001b[0m\u001b[0;34m\u001b[0m\u001b[0m\n\u001b[1;32m    113\u001b[0m             \u001b[0m_assert_all_finite\u001b[0m\u001b[0;34m(\u001b[0m\u001b[0mX\u001b[0m\u001b[0;34m)\u001b[0m\u001b[0;34m\u001b[0m\u001b[0m\n",
        "\u001b[0;32m/Users/paul/anaconda/python.app/Contents/lib/python2.7/site-packages/sklearn/utils/validation.pyc\u001b[0m in \u001b[0;36marray2d\u001b[0;34m(X, dtype, order, copy, force_all_finite)\u001b[0m\n\u001b[1;32m     89\u001b[0m         raise TypeError('A sparse matrix was passed, but dense data '\n\u001b[1;32m     90\u001b[0m                         'is required. Use X.toarray() to convert to dense.')\n\u001b[0;32m---> 91\u001b[0;31m     \u001b[0mX_2d\u001b[0m \u001b[0;34m=\u001b[0m \u001b[0mnp\u001b[0m\u001b[0;34m.\u001b[0m\u001b[0masarray\u001b[0m\u001b[0;34m(\u001b[0m\u001b[0mnp\u001b[0m\u001b[0;34m.\u001b[0m\u001b[0matleast_2d\u001b[0m\u001b[0;34m(\u001b[0m\u001b[0mX\u001b[0m\u001b[0;34m)\u001b[0m\u001b[0;34m,\u001b[0m \u001b[0mdtype\u001b[0m\u001b[0;34m=\u001b[0m\u001b[0mdtype\u001b[0m\u001b[0;34m,\u001b[0m \u001b[0morder\u001b[0m\u001b[0;34m=\u001b[0m\u001b[0morder\u001b[0m\u001b[0;34m)\u001b[0m\u001b[0;34m\u001b[0m\u001b[0m\n\u001b[0m\u001b[1;32m     92\u001b[0m     \u001b[0;32mif\u001b[0m \u001b[0mforce_all_finite\u001b[0m\u001b[0;34m:\u001b[0m\u001b[0;34m\u001b[0m\u001b[0m\n\u001b[1;32m     93\u001b[0m         \u001b[0m_assert_all_finite\u001b[0m\u001b[0;34m(\u001b[0m\u001b[0mX_2d\u001b[0m\u001b[0;34m)\u001b[0m\u001b[0;34m\u001b[0m\u001b[0m\n",
        "\u001b[0;32m/Users/paul/anaconda/python.app/Contents/lib/python2.7/site-packages/numpy/core/numeric.pyc\u001b[0m in \u001b[0;36masarray\u001b[0;34m(a, dtype, order)\u001b[0m\n\u001b[1;32m    318\u001b[0m \u001b[0;34m\u001b[0m\u001b[0m\n\u001b[1;32m    319\u001b[0m     \"\"\"\n\u001b[0;32m--> 320\u001b[0;31m     \u001b[0;32mreturn\u001b[0m \u001b[0marray\u001b[0m\u001b[0;34m(\u001b[0m\u001b[0ma\u001b[0m\u001b[0;34m,\u001b[0m \u001b[0mdtype\u001b[0m\u001b[0;34m,\u001b[0m \u001b[0mcopy\u001b[0m\u001b[0;34m=\u001b[0m\u001b[0mFalse\u001b[0m\u001b[0;34m,\u001b[0m \u001b[0morder\u001b[0m\u001b[0;34m=\u001b[0m\u001b[0morder\u001b[0m\u001b[0;34m)\u001b[0m\u001b[0;34m\u001b[0m\u001b[0m\n\u001b[0m\u001b[1;32m    321\u001b[0m \u001b[0;34m\u001b[0m\u001b[0m\n\u001b[1;32m    322\u001b[0m \u001b[0;32mdef\u001b[0m \u001b[0masanyarray\u001b[0m\u001b[0;34m(\u001b[0m\u001b[0ma\u001b[0m\u001b[0;34m,\u001b[0m \u001b[0mdtype\u001b[0m\u001b[0;34m=\u001b[0m\u001b[0mNone\u001b[0m\u001b[0;34m,\u001b[0m \u001b[0morder\u001b[0m\u001b[0;34m=\u001b[0m\u001b[0mNone\u001b[0m\u001b[0;34m)\u001b[0m\u001b[0;34m:\u001b[0m\u001b[0;34m\u001b[0m\u001b[0m\n",
        "\u001b[0;31mValueError\u001b[0m: could not convert string to float: Thierry David"
       ]
      }
     ],
     "prompt_number": 456
    },
    {
     "cell_type": "code",
     "collapsed": false,
     "input": [
      "x = 'tr,io'\n",
      "',' in x"
     ],
     "language": "python",
     "metadata": {},
     "outputs": [
      {
       "metadata": {},
       "output_type": "pyout",
       "prompt_number": 458,
       "text": [
        "True"
       ]
      }
     ],
     "prompt_number": 458
    },
    {
     "cell_type": "code",
     "collapsed": false,
     "input": [
      "import etl"
     ],
     "language": "python",
     "metadata": {},
     "outputs": [],
     "prompt_number": 31
    },
    {
     "cell_type": "code",
     "collapsed": false,
     "input": [
      "x1 = etl.main('jsonout/0.json')\n",
      "print sum(x1['subscriber'] ==1)\n",
      "x2 = etl.main('jsonout/5000.json')\n",
      "print sum(x2['subscriber'] ==1)\n",
      "x3 = etl.main('jsonout/10000.json')\n",
      "print sum(x3['subscriber'] ==1)\n",
      "x4 = etl.main('jsonout/15000.json')\n",
      "print sum(x4['subscriber'] ==1)\n",
      "x5 = etl.main('jsonout/20000.json')\n",
      "print sum(x5['subscriber'] ==1)"
     ],
     "language": "python",
     "metadata": {},
     "outputs": [
      {
       "output_type": "stream",
       "stream": "stdout",
       "text": [
        "254\n",
        "203"
       ]
      },
      {
       "output_type": "stream",
       "stream": "stdout",
       "text": [
        "\n",
        "234"
       ]
      },
      {
       "output_type": "stream",
       "stream": "stdout",
       "text": [
        "\n",
        "213"
       ]
      },
      {
       "output_type": "stream",
       "stream": "stdout",
       "text": [
        "\n",
        "187"
       ]
      },
      {
       "output_type": "stream",
       "stream": "stdout",
       "text": [
        "\n"
       ]
      }
     ],
     "prompt_number": 32
    },
    {
     "cell_type": "code",
     "collapsed": false,
     "input": [
      "x1"
     ],
     "language": "python",
     "metadata": {},
     "outputs": [
      {
       "html": [
        "<pre>\n",
        "&lt;class 'pandas.core.frame.DataFrame'&gt;\n",
        "Int64Index: 5000 entries, 0 to 4999\n",
        "Data columns (total 41 columns):\n",
        "age               712  non-null values\n",
        "country           886  non-null values\n",
        "event_count       5000  non-null values\n",
        "friend_count      5000  non-null values\n",
        "gender            1264  non-null values\n",
        "id                5000  non-null values\n",
        "image             5000  non-null values\n",
        "playcount         5000  non-null values\n",
        "playlists         5000  non-null values\n",
        "recent_artist1    3027  non-null values\n",
        "recent_artist2    2770  non-null values\n",
        "recent_artist3    2638  non-null values\n",
        "recent_artist4    2550  non-null values\n",
        "recent_artist5    2477  non-null values\n",
        "recent_date1      3009  non-null values\n",
        "recent_date2      2770  non-null values\n",
        "recent_date3      2638  non-null values\n",
        "recent_date4      2550  non-null values\n",
        "recent_date5      2477  non-null values\n",
        "recent_track1     3027  non-null values\n",
        "recent_track2     2770  non-null values\n",
        "recent_track3     2638  non-null values\n",
        "recent_track4     2550  non-null values\n",
        "recent_track5     2477  non-null values\n",
        "registered        5000  non-null values\n",
        "subscriber        5000  non-null values\n",
        "tag1              3042  non-null values\n",
        "tag2              2745  non-null values\n",
        "tag3              2589  non-null values\n",
        "tag4              2471  non-null values\n",
        "tag5              2373  non-null values\n",
        "top_artist1       2929  non-null values\n",
        "top_artist2       2662  non-null values\n",
        "top_artist3       2530  non-null values\n",
        "top_artist4       2445  non-null values\n",
        "top_artist5       2373  non-null values\n",
        "top_count1        2929  non-null values\n",
        "top_count2        2662  non-null values\n",
        "top_count3        2530  non-null values\n",
        "top_count4        2445  non-null values\n",
        "top_count5        2373  non-null values\n",
        "dtypes: bool(1), float64(1), int64(5), object(34)\n",
        "</pre>"
       ],
       "metadata": {},
       "output_type": "pyout",
       "prompt_number": 33,
       "text": [
        "<class 'pandas.core.frame.DataFrame'>\n",
        "Int64Index: 5000 entries, 0 to 4999\n",
        "Data columns (total 41 columns):\n",
        "age               712  non-null values\n",
        "country           886  non-null values\n",
        "event_count       5000  non-null values\n",
        "friend_count      5000  non-null values\n",
        "gender            1264  non-null values\n",
        "id                5000  non-null values\n",
        "image             5000  non-null values\n",
        "playcount         5000  non-null values\n",
        "playlists         5000  non-null values\n",
        "recent_artist1    3027  non-null values\n",
        "recent_artist2    2770  non-null values\n",
        "recent_artist3    2638  non-null values\n",
        "recent_artist4    2550  non-null values\n",
        "recent_artist5    2477  non-null values\n",
        "recent_date1      3009  non-null values\n",
        "recent_date2      2770  non-null values\n",
        "recent_date3      2638  non-null values\n",
        "recent_date4      2550  non-null values\n",
        "recent_date5      2477  non-null values\n",
        "recent_track1     3027  non-null values\n",
        "recent_track2     2770  non-null values\n",
        "recent_track3     2638  non-null values\n",
        "recent_track4     2550  non-null values\n",
        "recent_track5     2477  non-null values\n",
        "registered        5000  non-null values\n",
        "subscriber        5000  non-null values\n",
        "tag1              3042  non-null values\n",
        "tag2              2745  non-null values\n",
        "tag3              2589  non-null values\n",
        "tag4              2471  non-null values\n",
        "tag5              2373  non-null values\n",
        "top_artist1       2929  non-null values\n",
        "top_artist2       2662  non-null values\n",
        "top_artist3       2530  non-null values\n",
        "top_artist4       2445  non-null values\n",
        "top_artist5       2373  non-null values\n",
        "top_count1        2929  non-null values\n",
        "top_count2        2662  non-null values\n",
        "top_count3        2530  non-null values\n",
        "top_count4        2445  non-null values\n",
        "top_count5        2373  non-null values\n",
        "dtypes: bool(1), float64(1), int64(5), object(34)"
       ]
      }
     ],
     "prompt_number": 33
    },
    {
     "cell_type": "code",
     "collapsed": false,
     "input": [
      "302 + 262 + 282 + 251"
     ],
     "language": "python",
     "metadata": {},
     "outputs": [
      {
       "metadata": {},
       "output_type": "pyout",
       "prompt_number": 15,
       "text": [
        "1097"
       ]
      }
     ],
     "prompt_number": 15
    },
    {
     "cell_type": "code",
     "collapsed": false,
     "input": [
      "f = open('jsonout/25000.json')\n",
      "len(f.readlines())"
     ],
     "language": "python",
     "metadata": {},
     "outputs": [
      {
       "metadata": {},
       "output_type": "pyout",
       "prompt_number": 29,
       "text": [
        "10707"
       ]
      }
     ],
     "prompt_number": 29
    },
    {
     "cell_type": "code",
     "collapsed": false,
     "input": [
      "from etl import connect, flatten_friends\n",
      "import newsubs\n",
      "import make_requests"
     ],
     "language": "python",
     "metadata": {},
     "outputs": [],
     "prompt_number": 3
    },
    {
     "cell_type": "code",
     "collapsed": false,
     "input": [
      "docs = connect()"
     ],
     "language": "python",
     "metadata": {},
     "outputs": [],
     "prompt_number": 7
    },
    {
     "cell_type": "code",
     "collapsed": false,
     "input": [
      "newsubs."
     ],
     "language": "python",
     "metadata": {},
     "outputs": [
      {
       "metadata": {},
       "output_type": "pyout",
       "prompt_number": 8,
       "text": [
        "<pymongo.cursor.Cursor at 0x106bf5b90>"
       ]
      }
     ],
     "prompt_number": 8
    },
    {
     "cell_type": "code",
     "collapsed": false,
     "input": [],
     "language": "python",
     "metadata": {},
     "outputs": []
    }
   ],
   "metadata": {}
  }
 ]
}