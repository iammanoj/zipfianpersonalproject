{
 "metadata": {
  "name": ""
 },
 "nbformat": 3,
 "nbformat_minor": 0,
 "worksheets": [
  {
   "cells": [
    {
     "cell_type": "code",
     "collapsed": false,
     "input": [
      "import pandas as pd\n",
      "import numpy as np\n",
      "import time\n",
      "from datetime import datetime\n",
      "from sklearn.ensemble import RandomForestClassifier\n",
      "from sklearn.preprocessing import LabelEncoder\n",
      "import pdb\n",
      "import model"
     ],
     "language": "python",
     "metadata": {},
     "outputs": [],
     "prompt_number": 1
    },
    {
     "cell_type": "code",
     "collapsed": false,
     "input": [
      "#model.make_encoder()"
     ],
     "language": "python",
     "metadata": {},
     "outputs": [],
     "prompt_number": 14
    },
    {
     "cell_type": "code",
     "collapsed": false,
     "input": [
      "reload(model)\n",
      "encoded, test_encoded = model.data()"
     ],
     "language": "python",
     "metadata": {},
     "outputs": [],
     "prompt_number": 19
    },
    {
     "cell_type": "code",
     "collapsed": false,
     "input": [
      "i = 1\n",
      "cv_score = []\n",
      "n_trees = []\n",
      "while i < 50:\n",
      "    i += 2\n",
      "    n_trees.append(i)\n",
      "    mod = model.growforest(encoded, i)\n",
      "    cv_score.append(model.make_predictions(test_encoded, mod))\n",
      "    \n"
     ],
     "language": "python",
     "metadata": {},
     "outputs": [],
     "prompt_number": 10
    },
    {
     "cell_type": "code",
     "collapsed": false,
     "input": [
      "reload(model)\n",
      "#solutions1, predictions1 = model.make_predictions(test_encoded, mod)\n",
      "print mod.score(test_encoded.drop('subscriber', axis =1 ),test_encoded['subscriber']) "
     ],
     "language": "python",
     "metadata": {},
     "outputs": [
      {
       "output_type": "stream",
       "stream": "stdout",
       "text": [
        "0.9112833764\n"
       ]
      }
     ],
     "prompt_number": 49
    },
    {
     "cell_type": "code",
     "collapsed": false,
     "input": [
      "print [(i, encoded_training.columns[i])for i in range(len(encoded_training.columns))]"
     ],
     "language": "python",
     "metadata": {},
     "outputs": [
      {
       "output_type": "stream",
       "stream": "stdout",
       "text": [
        "[(0, 'age'), (1, 'country'), (2, 'event_count'), (3, 'friend_count'), (4, 'gender'), (5, 'image'), (6, 'playlists'), (7, 'recent_artist1'), (8, 'recent_artist2'), (9, 'recent_artist3'), (10, 'recent_artist4'), (11, 'recent_artist5'), (12, 'recent_track1'), (13, 'recent_track2'), (14, 'recent_track3'), (15, 'recent_track4'), (16, 'recent_track5'), (17, 'tag1'), (18, 'tag2'), (19, 'tag3'), (20, 'tag4'), (21, 'tag5'), (22, 'top_artist1'), (23, 'top_artist2'), (24, 'top_artist3'), (25, 'top_artist4'), (26, 'top_artist5'), (27, 'top_count1'), (28, 'top_count2'), (29, 'top_count3'), (30, 'top_count4'), (31, 'top_count5'), (32, 'hour_registered')]\n"
       ]
      }
     ],
     "prompt_number": 72
    },
    {
     "cell_type": "code",
     "collapsed": false,
     "input": [
      "print sum(predictions1 == solutions1)*1.0/len(predictions1)\n",
      "print sum(predictions1 != 358)"
     ],
     "language": "python",
     "metadata": {},
     "outputs": [
      {
       "output_type": "stream",
       "stream": "stdout",
       "text": [
        "0.972437553833\n",
        "2203\n"
       ]
      }
     ],
     "prompt_number": 22
    },
    {
     "cell_type": "code",
     "collapsed": false,
     "input": [
      "np.argmax(mod.feature_importances_)"
     ],
     "language": "python",
     "metadata": {},
     "outputs": [
      {
       "metadata": {},
       "output_type": "pyout",
       "prompt_number": 25,
       "text": [
        "31"
       ]
      }
     ],
     "prompt_number": 25
    },
    {
     "cell_type": "code",
     "collapsed": false,
     "input": [
      "from sklearn.svm import SVC\n",
      "clf = SVC()\n",
      "svc_model = clf.fit(encoded_training, encoded_target)"
     ],
     "language": "python",
     "metadata": {},
     "outputs": [],
     "prompt_number": 55
    },
    {
     "cell_type": "code",
     "collapsed": false,
     "input": [
      "solutions2, predictions2 = model.make_predictions(test_encoded, svc_model)"
     ],
     "language": "python",
     "metadata": {},
     "outputs": [],
     "prompt_number": 56
    },
    {
     "cell_type": "code",
     "collapsed": false,
     "input": [
      "sum(np.array(solutions2) == predictions2)*1.0/len(predictions2)"
     ],
     "language": "python",
     "metadata": {},
     "outputs": [
      {
       "metadata": {},
       "output_type": "pyout",
       "prompt_number": 57,
       "text": [
        "0.92204995693367786"
       ]
      }
     ],
     "prompt_number": 57
    },
    {
     "cell_type": "code",
     "collapsed": false,
     "input": [
      "np.array(solutions)[3]"
     ],
     "language": "python",
     "metadata": {},
     "outputs": [
      {
       "metadata": {},
       "output_type": "pyout",
       "prompt_number": 116,
       "text": [
        "152"
       ]
      }
     ],
     "prompt_number": 116
    },
    {
     "cell_type": "code",
     "collapsed": false,
     "input": [
      "predictions[3]"
     ],
     "language": "python",
     "metadata": {},
     "outputs": [
      {
       "metadata": {},
       "output_type": "pyout",
       "prompt_number": 117,
       "text": [
        "152"
       ]
      }
     ],
     "prompt_number": 117
    },
    {
     "cell_type": "code",
     "collapsed": false,
     "input": [
      "sum(predictions != 152)"
     ],
     "language": "python",
     "metadata": {},
     "outputs": [
      {
       "metadata": {},
       "output_type": "pyout",
       "prompt_number": 118,
       "text": [
        "181"
       ]
      }
     ],
     "prompt_number": 118
    },
    {
     "cell_type": "code",
     "collapsed": false,
     "input": [
      "sum(solutions != 152)"
     ],
     "language": "python",
     "metadata": {},
     "outputs": [
      {
       "metadata": {},
       "output_type": "pyout",
       "prompt_number": 119,
       "text": [
        "181"
       ]
      }
     ],
     "prompt_number": 119
    },
    {
     "cell_type": "code",
     "collapsed": false,
     "input": [
      "np.intersect1d(df1['id'],test['id'])"
     ],
     "language": "python",
     "metadata": {},
     "outputs": [
      {
       "metadata": {},
       "output_type": "pyout",
       "prompt_number": 75,
       "text": [
        "array([], dtype=int64)"
       ]
      }
     ],
     "prompt_number": 75
    },
    {
     "cell_type": "code",
     "collapsed": false,
     "input": [
      "cv_score"
     ],
     "language": "python",
     "metadata": {},
     "outputs": [
      {
       "metadata": {},
       "output_type": "pyout",
       "prompt_number": 11,
       "text": [
        "[0.89061154177433244,\n",
        " 0.91257536606373812,\n",
        " 0.91645133505598619,\n",
        " 0.91602067183462532,\n",
        " 0.92032730404823426,\n",
        " 0.92161929371231699,\n",
        " 0.9229112833763996,\n",
        " 0.92118863049095612,\n",
        " 0.92420327304048233,\n",
        " 0.91946597760551252,\n",
        " 0.92248062015503873,\n",
        " 0.92161929371231699,\n",
        " 0.92377260981912146,\n",
        " 0.92420327304048233,\n",
        " 0.92032730404823426,\n",
        " 0.9229112833763996,\n",
        " 0.92161929371231699,\n",
        " 0.9229112833763996,\n",
        " 0.92204995693367786,\n",
        " 0.92377260981912146,\n",
        " 0.92032730404823426,\n",
        " 0.92161929371231699,\n",
        " 0.92204995693367786,\n",
        " 0.92118863049095612,\n",
        " 0.92334194659776059]"
       ]
      }
     ],
     "prompt_number": 11
    },
    {
     "cell_type": "code",
     "collapsed": false,
     "input": [
      "n_trees"
     ],
     "language": "python",
     "metadata": {},
     "outputs": [
      {
       "metadata": {},
       "output_type": "pyout",
       "prompt_number": 7,
       "text": [
        "[10, 20, 40, 80, 160, 320, 640, 1280]"
       ]
      }
     ],
     "prompt_number": 7
    },
    {
     "cell_type": "code",
     "collapsed": false,
     "input": [
      "reload(model)\n",
      "mod, features = model.growforest(encoded, 100)"
     ],
     "language": "python",
     "metadata": {},
     "outputs": [],
     "prompt_number": 15
    },
    {
     "cell_type": "code",
     "collapsed": false,
     "input": [
      "features"
     ],
     "language": "python",
     "metadata": {},
     "outputs": [
      {
       "metadata": {},
       "output_type": "pyout",
       "prompt_number": 16,
       "text": [
        "[(0.040837422221858308, 'top_count4'),\n",
        " (0.03997678324951074, 'friend_count'),\n",
        " (0.038654965400266521, 'top_count3'),\n",
        " (0.037686787299963435, 'recent_track5'),\n",
        " (0.036721929224838315, 'age'),\n",
        " (0.036168886556091205, 'top_artist5'),\n",
        " (0.034490576321232418, 'recent_artist4'),\n",
        " (0.03446216137316134, 'top_artist3'),\n",
        " (0.034315082746516068, 'top_count2'),\n",
        " (0.033887951187261359, 'recent_track1'),\n",
        " (0.033786445761846251, 'recent_artist1'),\n",
        " (0.033560534824565495, 'tag1'),\n",
        " (0.033407275135728401, 'top_artist4'),\n",
        " (0.032963347033905251, 'recent_track3'),\n",
        " (0.032735394539945839, 'tag2'),\n",
        " (0.032185580079408992, 'recent_artist5'),\n",
        " (0.032102086407831971, 'tag5'),\n",
        " (0.031940050221996731, 'top_count1'),\n",
        " (0.031906255411601803, 'recent_track2'),\n",
        " (0.031788098026862381, 'top_artist1'),\n",
        " (0.031706023817343575, 'top_artist2'),\n",
        " (0.031323876075376123, 'subscriber'),\n",
        " (0.031196999175620167, 'recent_track4'),\n",
        " (0.031080838023346168, 'tag3'),\n",
        " (0.030709720530455994, 'recent_artist2'),\n",
        " (0.030185726569169763, 'recent_artist3'),\n",
        " (0.029806029812241706, 'tag4'),\n",
        " (0.026317980033236578, 'top_count5'),\n",
        " (0.021836715833552713, 'event_count'),\n",
        " (0.020978919536222981, 'playlists'),\n",
        " (0.0073814921104448103, 'country'),\n",
        " (0.0071595938944526314, 'gender'),\n",
        " (0.0067384715641439774, 'image')]"
       ]
      }
     ],
     "prompt_number": 16
    },
    {
     "cell_type": "code",
     "collapsed": false,
     "input": [
      "encoded"
     ],
     "language": "python",
     "metadata": {},
     "outputs": [
      {
       "output_type": "stream",
       "stream": "stderr",
       "text": [
        "/Users/paul/anaconda/python.app/Contents/lib/python2.7/site-packages/pandas/core/config.py:570: DeprecationWarning: height has been deprecated.\n",
        "\n",
        "  warnings.warn(d.msg, DeprecationWarning)\n"
       ]
      },
      {
       "html": [
        "<pre>\n",
        "&lt;class 'pandas.core.frame.DataFrame'&gt;\n",
        "Int64Index: 8725 entries, 5 to 18925\n",
        "Data columns (total 34 columns):\n",
        "age                8725  non-null values\n",
        "country            8725  non-null values\n",
        "event_count        8725  non-null values\n",
        "friend_count       8725  non-null values\n",
        "gender             8725  non-null values\n",
        "image              8725  non-null values\n",
        "playlists          8725  non-null values\n",
        "recent_artist1     8725  non-null values\n",
        "recent_artist2     8725  non-null values\n",
        "recent_artist3     8725  non-null values\n",
        "recent_artist4     8725  non-null values\n",
        "recent_artist5     8725  non-null values\n",
        "recent_track1      8725  non-null values\n",
        "recent_track2      8725  non-null values\n",
        "recent_track3      8725  non-null values\n",
        "recent_track4      8725  non-null values\n",
        "recent_track5      8725  non-null values\n",
        "subscriber         8725  non-null values\n",
        "tag1               8725  non-null values\n",
        "tag2               8725  non-null values\n",
        "tag3               8725  non-null values\n",
        "tag4               8725  non-null values\n",
        "tag5               8725  non-null values\n",
        "top_artist1        8725  non-null values\n",
        "top_artist2        8725  non-null values\n",
        "top_artist3        8725  non-null values\n",
        "top_artist4        8725  non-null values\n",
        "top_artist5        8725  non-null values\n",
        "top_count1         8725  non-null values\n",
        "top_count2         8725  non-null values\n",
        "top_count3         8725  non-null values\n",
        "top_count4         8725  non-null values\n",
        "top_count5         8725  non-null values\n",
        "hour_registered    8725  non-null values\n",
        "dtypes: int64(34)\n",
        "</pre>"
       ],
       "metadata": {},
       "output_type": "pyout",
       "prompt_number": 17,
       "text": [
        "<class 'pandas.core.frame.DataFrame'>\n",
        "Int64Index: 8725 entries, 5 to 18925\n",
        "Data columns (total 34 columns):\n",
        "age                8725  non-null values\n",
        "country            8725  non-null values\n",
        "event_count        8725  non-null values\n",
        "friend_count       8725  non-null values\n",
        "gender             8725  non-null values\n",
        "image              8725  non-null values\n",
        "playlists          8725  non-null values\n",
        "recent_artist1     8725  non-null values\n",
        "recent_artist2     8725  non-null values\n",
        "recent_artist3     8725  non-null values\n",
        "recent_artist4     8725  non-null values\n",
        "recent_artist5     8725  non-null values\n",
        "recent_track1      8725  non-null values\n",
        "recent_track2      8725  non-null values\n",
        "recent_track3      8725  non-null values\n",
        "recent_track4      8725  non-null values\n",
        "recent_track5      8725  non-null values\n",
        "subscriber         8725  non-null values\n",
        "tag1               8725  non-null values\n",
        "tag2               8725  non-null values\n",
        "tag3               8725  non-null values\n",
        "tag4               8725  non-null values\n",
        "tag5               8725  non-null values\n",
        "top_artist1        8725  non-null values\n",
        "top_artist2        8725  non-null values\n",
        "top_artist3        8725  non-null values\n",
        "top_artist4        8725  non-null values\n",
        "top_artist5        8725  non-null values\n",
        "top_count1         8725  non-null values\n",
        "top_count2         8725  non-null values\n",
        "top_count3         8725  non-null values\n",
        "top_count4         8725  non-null values\n",
        "top_count5         8725  non-null values\n",
        "hour_registered    8725  non-null values\n",
        "dtypes: int64(34)"
       ]
      }
     ],
     "prompt_number": 17
    },
    {
     "cell_type": "code",
     "collapsed": false,
     "input": [],
     "language": "python",
     "metadata": {},
     "outputs": []
    }
   ],
   "metadata": {}
  }
 ]
}