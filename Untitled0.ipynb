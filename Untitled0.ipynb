{
 "metadata": {
  "name": ""
 },
 "nbformat": 3,
 "nbformat_minor": 0,
 "worksheets": [
  {
   "cells": [
    {
     "cell_type": "code",
     "collapsed": false,
     "input": [
      "import pandas as pd\n",
      "import numpy as np\n",
      "from matplotlib import pyplot\n",
      "import pdb\n",
      "import model\n",
      "import random\n",
      "%pylab inline"
     ],
     "language": "python",
     "metadata": {},
     "outputs": [
      {
       "output_type": "stream",
       "stream": "stdout",
       "text": [
        "Populating the interactive namespace from numpy and matplotlib\n"
       ]
      },
      {
       "output_type": "stream",
       "stream": "stderr",
       "text": [
        "WARNING: pylab import has clobbered these variables: ['random', 'mod', 'test']\n",
        "`%pylab --no-import-all` prevents importing * from pylab and numpy\n"
       ]
      }
     ],
     "prompt_number": 37
    },
    {
     "cell_type": "code",
     "collapsed": false,
     "input": [
      "model.make_encoder()"
     ],
     "language": "python",
     "metadata": {},
     "outputs": [],
     "prompt_number": 10
    },
    {
     "cell_type": "code",
     "collapsed": false,
     "input": [
      "reload(model)"
     ],
     "language": "python",
     "metadata": {},
     "outputs": [
      {
       "metadata": {},
       "output_type": "pyout",
       "prompt_number": 5,
       "text": [
        "<module 'model' from 'model.py'>"
       ]
      }
     ],
     "prompt_number": 5
    },
    {
     "cell_type": "code",
     "collapsed": false,
     "input": [
      "'''\n",
      "look at the effect of increasing the number of trees\n",
      "to optimize: information gain, max features, etc\n",
      "'''\n",
      "# i = 1\n",
      "# cv_score = []\n",
      "# n_trees = []\n",
      "# while i < 50:\n",
      "#     i += 2\n",
      "#     n_trees.append(i)\n",
      "#     mod, top_features = model.growforest(encoded, i)\n",
      "#     cv_score.append(model.make_predictions(test_encoded, mod))\n",
      "# figure()\n",
      "# plot(n_trees, cv_score)\n",
      "    \n"
     ],
     "language": "python",
     "metadata": {},
     "outputs": [],
     "prompt_number": 5
    },
    {
     "cell_type": "code",
     "collapsed": false,
     "input": [
      "'''\n",
      "compare to svm\n",
      "'''\n",
      "# from sklearn.svm import SVC\n",
      "# clf = SVC()\n",
      "# svc_model = clf.fit(encoded_training, encoded_target)\n",
      "# solutions2, predictions2 = model.make_predictions(test_encoded, svc_model)\n",
      "# sum(np.array(solutions2) == predictions2)*1.0/len(predictions2)"
     ],
     "language": "python",
     "metadata": {},
     "outputs": [],
     "prompt_number": 55
    },
    {
     "cell_type": "code",
     "collapsed": false,
     "input": [
      "'''\n",
      "look at false positives when playcount is included\n",
      "'''\n",
      "to_drop = ['recent_date1','recent_date2','recent_date3','recent_date4',\n",
      "            'recent_date5','registered', 'id']\n",
      "# load the encoded data\n",
      "encoded, test_encoded = model.data(to_drop = to_drop)\n",
      "# make the model\n",
      "mod, top_features = model.growforest(encoded, num_trees = 100)\n",
      "# test against users who don't subscribe\n",
      "user = test_encoded[test_encoded['subscriber'] == 359]\n",
      "solutions, predictions, score = model.make_predictions(user, model = mod)\n",
      "false_pos = model.dencode(user[predictions != 359], decode = True)"
     ],
     "language": "python",
     "metadata": {},
     "outputs": [],
     "prompt_number": 18
    },
    {
     "cell_type": "code",
     "collapsed": false,
     "input": [
      "'''\n",
      "strip the count features to predict new users\n",
      "'''\n",
      "to_drop = ['recent_date1','recent_date2','recent_date3','recent_date4',\n",
      "            'recent_date5','registered', 'id', 'playcount', 'top_count1',\n",
      "            'top_count2', 'top_count3', 'top_count4', 'top_count5', 'friend_count']\n",
      "encoded, test_encoded = model.data(to_drop = to_drop)\n",
      "mod, top_features = model.growforest(encoded, num_trees = 100)\n",
      "solutions, predictions, score = model.make_predictions(test_encoded, model = mod)"
     ],
     "language": "python",
     "metadata": {},
     "outputs": []
    },
    {
     "cell_type": "code",
     "collapsed": false,
     "input": [
      "'''\n",
      "build model on invented class distribution\n",
      "'''\n",
      "reload(model)\n",
      "train, test = model.data()\n",
      "subscriber_index = train[train['subscriber'] == 153].index\n",
      "chosen = random.sample(list(subscriber_index), sum(train['subscriber'] == 359))\n",
      "new_train = train.ix[chosen].append(train[train['subscriber'] == 359])\n",
      "mod = model.growforest(new_train, 100)[0]\n",
      "user = test[test['subscriber'] != 359]\n",
      "solutions, predictions, score = model.make_predictions(user, model = mod)\n",
      "false_pos = model.dencode(user[predictions != 153], decode = True)"
     ],
     "language": "python",
     "metadata": {},
     "outputs": [],
     "prompt_number": 104
    },
    {
     "cell_type": "code",
     "collapsed": false,
     "input": [
      "#solutions, predictions, score = model.make_predictions(test, model = mod)"
     ],
     "language": "python",
     "metadata": {},
     "outputs": [],
     "prompt_number": 100
    },
    {
     "cell_type": "code",
     "collapsed": false,
     "input": [
      "score"
     ],
     "language": "python",
     "metadata": {},
     "outputs": [
      {
       "metadata": {},
       "output_type": "pyout",
       "prompt_number": 105,
       "text": [
        "0.66137319009808504"
       ]
      }
     ],
     "prompt_number": 105
    },
    {
     "cell_type": "code",
     "collapsed": false,
     "input": [
      "false_pos"
     ],
     "language": "python",
     "metadata": {},
     "outputs": [
      {
       "output_type": "stream",
       "stream": "stderr",
       "text": [
        "/Users/paul/anaconda/python.app/Contents/lib/python2.7/site-packages/pandas/core/config.py:570: DeprecationWarning: height has been deprecated.\n",
        "\n",
        "  warnings.warn(d.msg, DeprecationWarning)\n"
       ]
      },
      {
       "html": [
        "<pre>\n",
        "&lt;class 'pandas.core.frame.DataFrame'&gt;\n",
        "Int64Index: 743 entries, 3 to 4996\n",
        "Data columns (total 35 columns):\n",
        "age                743  non-null values\n",
        "country            743  non-null values\n",
        "event_count        743  non-null values\n",
        "friend_count       743  non-null values\n",
        "gender             743  non-null values\n",
        "image              743  non-null values\n",
        "playcount          743  non-null values\n",
        "playlists          743  non-null values\n",
        "recent_artist1     743  non-null values\n",
        "recent_artist2     743  non-null values\n",
        "recent_artist3     743  non-null values\n",
        "recent_artist4     743  non-null values\n",
        "recent_artist5     743  non-null values\n",
        "recent_track1      743  non-null values\n",
        "recent_track2      743  non-null values\n",
        "recent_track3      743  non-null values\n",
        "recent_track4      743  non-null values\n",
        "recent_track5      743  non-null values\n",
        "subscriber         743  non-null values\n",
        "tag1               743  non-null values\n",
        "tag2               743  non-null values\n",
        "tag3               743  non-null values\n",
        "tag4               743  non-null values\n",
        "tag5               743  non-null values\n",
        "top_artist1        743  non-null values\n",
        "top_artist2        743  non-null values\n",
        "top_artist3        743  non-null values\n",
        "top_artist4        743  non-null values\n",
        "top_artist5        743  non-null values\n",
        "top_count1         743  non-null values\n",
        "top_count2         743  non-null values\n",
        "top_count3         743  non-null values\n",
        "top_count4         743  non-null values\n",
        "top_count5         743  non-null values\n",
        "hour_registered    743  non-null values\n",
        "dtypes: object(35)\n",
        "</pre>"
       ],
       "metadata": {},
       "output_type": "pyout",
       "prompt_number": 103,
       "text": [
        "<class 'pandas.core.frame.DataFrame'>\n",
        "Int64Index: 743 entries, 3 to 4996\n",
        "Data columns (total 35 columns):\n",
        "age                743  non-null values\n",
        "country            743  non-null values\n",
        "event_count        743  non-null values\n",
        "friend_count       743  non-null values\n",
        "gender             743  non-null values\n",
        "image              743  non-null values\n",
        "playcount          743  non-null values\n",
        "playlists          743  non-null values\n",
        "recent_artist1     743  non-null values\n",
        "recent_artist2     743  non-null values\n",
        "recent_artist3     743  non-null values\n",
        "recent_artist4     743  non-null values\n",
        "recent_artist5     743  non-null values\n",
        "recent_track1      743  non-null values\n",
        "recent_track2      743  non-null values\n",
        "recent_track3      743  non-null values\n",
        "recent_track4      743  non-null values\n",
        "recent_track5      743  non-null values\n",
        "subscriber         743  non-null values\n",
        "tag1               743  non-null values\n",
        "tag2               743  non-null values\n",
        "tag3               743  non-null values\n",
        "tag4               743  non-null values\n",
        "tag5               743  non-null values\n",
        "top_artist1        743  non-null values\n",
        "top_artist2        743  non-null values\n",
        "top_artist3        743  non-null values\n",
        "top_artist4        743  non-null values\n",
        "top_artist5        743  non-null values\n",
        "top_count1         743  non-null values\n",
        "top_count2         743  non-null values\n",
        "top_count3         743  non-null values\n",
        "top_count4         743  non-null values\n",
        "top_count5         743  non-null values\n",
        "hour_registered    743  non-null values\n",
        "dtypes: object(35)"
       ]
      }
     ],
     "prompt_number": 103
    },
    {
     "cell_type": "code",
     "collapsed": false,
     "input": [],
     "language": "python",
     "metadata": {},
     "outputs": []
    }
   ],
   "metadata": {}
  }
 ]
}