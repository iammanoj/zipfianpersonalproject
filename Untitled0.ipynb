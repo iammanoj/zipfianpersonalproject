{
 "metadata": {
  "name": ""
 },
 "nbformat": 3,
 "nbformat_minor": 0,
 "worksheets": [
  {
   "cells": [
    {
     "cell_type": "code",
     "collapsed": false,
     "input": [
      "import pandas as pd\n",
      "import numpy as np\n",
      "import time\n",
      "from datetime import datetime\n",
      "from sklearn.ensemble import RandomForestClassifier\n",
      "import pdb"
     ],
     "language": "python",
     "metadata": {},
     "outputs": [],
     "prompt_number": 105
    },
    {
     "cell_type": "code",
     "collapsed": false,
     "input": [
      "df1 = pd.read_csv('ssvout/0.ssv', na_values='None')\n",
      "print sum(df1['subscriber'] == 1)\n",
      "df1 = df1.append(pd.read_csv('ssvout/5000.ssv', na_values='None'), ignore_index = True)\n",
      "print sum(df1['subscriber'] == 1)\n",
      "df1 = df1.append(pd.read_csv('ssvout/10000.ssv', na_values='None'), ignore_index = True)\n",
      "print sum(df1['subscriber'] == 1)\n",
      "df1 = df1.append(pd.read_csv('ssvout/15000.ssv', na_values='None'), ignore_index = True)\n",
      "print sum(df1['subscriber'] == 1)\n",
      "#df1 = df1.append(pd.read_csv('ssvout/20000.ssv', na_values='None'), ignore_index = True)\n",
      "#print sum(df1['subscriber'] == 1)\n"
     ],
     "language": "python",
     "metadata": {},
     "outputs": [
      {
       "output_type": "stream",
       "stream": "stdout",
       "text": [
        "254\n",
        "457"
       ]
      },
      {
       "output_type": "stream",
       "stream": "stdout",
       "text": [
        "\n",
        "691"
       ]
      },
      {
       "output_type": "stream",
       "stream": "stdout",
       "text": [
        "\n",
        "904"
       ]
      },
      {
       "output_type": "stream",
       "stream": "stdout",
       "text": [
        "\n"
       ]
      }
     ],
     "prompt_number": 108
    },
    {
     "cell_type": "code",
     "collapsed": false,
     "input": [
      "datetime.fromtimestamp(df1['registered'][1])#.strftime('%H')\n",
      "#df1['recent_date1']"
     ],
     "language": "python",
     "metadata": {},
     "outputs": [
      {
       "metadata": {},
       "output_type": "pyout",
       "prompt_number": 99,
       "text": [
        "datetime.datetime(2008, 12, 27, 11, 4, 51)"
       ]
      }
     ],
     "prompt_number": 99
    },
    {
     "cell_type": "code",
     "collapsed": false,
     "input": [
      "time = ['registered','recent_date1','recent_date2','recent_date3','recent_date4','recent_date5']\n",
      "for col in time:\n",
      "    print col\n",
      "    print df1[col].dtype\n",
      "    new_series = []\n",
      "    for item in df1[col]:\n",
      "        if pd.isnull(item):\n",
      "            new_series.append(item)\n",
      "            continue\n",
      "        new_series.append(datetime.fromtimestamp(item))\n",
      "    df1[col] = new_series\n"
     ],
     "language": "python",
     "metadata": {},
     "outputs": [
      {
       "output_type": "stream",
       "stream": "stdout",
       "text": [
        "registered\n",
        "int64\n",
        "recent_date1"
       ]
      },
      {
       "output_type": "stream",
       "stream": "stdout",
       "text": [
        "\n",
        "float64\n",
        "recent_date2"
       ]
      },
      {
       "output_type": "stream",
       "stream": "stdout",
       "text": [
        "\n",
        "float64\n",
        "recent_date3"
       ]
      },
      {
       "output_type": "stream",
       "stream": "stdout",
       "text": [
        "\n",
        "float64\n",
        "recent_date4"
       ]
      },
      {
       "output_type": "stream",
       "stream": "stdout",
       "text": [
        "\n",
        "float64\n",
        "recent_date5"
       ]
      },
      {
       "output_type": "stream",
       "stream": "stdout",
       "text": [
        "\n",
        "float64\n"
       ]
      }
     ],
     "prompt_number": 111
    },
    {
     "cell_type": "code",
     "collapsed": false,
     "input": [
      "df1['registered'][1]"
     ],
     "language": "python",
     "metadata": {},
     "outputs": [
      {
       "metadata": {},
       "output_type": "pyout",
       "prompt_number": 112,
       "text": [
        "Timestamp('2008-12-27 11:04:51', tz=None)"
       ]
      }
     ],
     "prompt_number": 112
    },
    {
     "cell_type": "code",
     "collapsed": false,
     "input": [
      "df1['top_count1'][3]"
     ],
     "language": "python",
     "metadata": {},
     "outputs": [
      {
       "metadata": {},
       "output_type": "pyout",
       "prompt_number": 69,
       "text": [
        "nan"
       ]
      }
     ],
     "prompt_number": 69
    },
    {
     "cell_type": "code",
     "collapsed": false,
     "input": [],
     "language": "python",
     "metadata": {},
     "outputs": []
    }
   ],
   "metadata": {}
  }
 ]
}