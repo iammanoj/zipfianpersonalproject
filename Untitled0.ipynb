{
 "metadata": {
  "name": ""
 },
 "nbformat": 3,
 "nbformat_minor": 0,
 "worksheets": [
  {
   "cells": [
    {
     "cell_type": "code",
     "collapsed": false,
     "input": [
      "import pandas as pd\n",
      "import numpy as np\n",
      "from matplotlib import pyplot\n",
      "import pdb\n",
      "import model\n",
      "%pylab inline"
     ],
     "language": "python",
     "metadata": {},
     "outputs": [
      {
       "output_type": "stream",
       "stream": "stdout",
       "text": [
        "Populating the interactive namespace from numpy and matplotlib\n"
       ]
      },
      {
       "output_type": "stream",
       "stream": "stderr",
       "text": [
        "WARNING: pylab import has clobbered these variables: ['datetime', 'mod']\n",
        "`%pylab --no-import-all` prevents importing * from pylab and numpy\n"
       ]
      }
     ],
     "prompt_number": 6
    },
    {
     "cell_type": "code",
     "collapsed": false,
     "input": [
      "#model.make_encoder()"
     ],
     "language": "python",
     "metadata": {},
     "outputs": [],
     "prompt_number": 2
    },
    {
     "cell_type": "code",
     "collapsed": false,
     "input": [
      "reload(model)\n",
      "encoded, test_encoded = model.data()"
     ],
     "language": "python",
     "metadata": {},
     "outputs": [],
     "prompt_number": 3
    },
    {
     "cell_type": "code",
     "collapsed": false,
     "input": [
      "i = 1\n",
      "cv_score = []\n",
      "n_trees = []\n",
      "while i < 50:\n",
      "    i += 2\n",
      "    n_trees.append(i)\n",
      "    mod, top_features = model.growforest(encoded, i)\n",
      "    cv_score.append(model.make_predictions(test_encoded, mod))\n",
      "    \n"
     ],
     "language": "python",
     "metadata": {},
     "outputs": [],
     "prompt_number": 5
    },
    {
     "cell_type": "code",
     "collapsed": false,
     "input": [
      "from sklearn.svm import SVC\n",
      "clf = SVC()\n",
      "svc_model = clf.fit(encoded_training, encoded_target)\n",
      "solutions2, predictions2 = model.make_predictions(test_encoded, svc_model)\n",
      "sum(np.array(solutions2) == predictions2)*1.0/len(predictions2)"
     ],
     "language": "python",
     "metadata": {},
     "outputs": [],
     "prompt_number": 55
    },
    {
     "cell_type": "code",
     "collapsed": false,
     "input": [],
     "language": "python",
     "metadata": {},
     "outputs": [
      {
       "metadata": {},
       "output_type": "pyout",
       "prompt_number": 7,
       "text": [
        "[0.89448751076658051,\n",
        " 0.91042204995693365,\n",
        " 0.91602067183462532,\n",
        " 0.91903531438415165,\n",
        " 0.91817398794142979,\n",
        " 0.92420327304048233,\n",
        " 0.92334194659776059,\n",
        " 0.92118863049095612,\n",
        " 0.92161929371231699,\n",
        " 0.9229112833763996,\n",
        " 0.92161929371231699,\n",
        " 0.92549526270456506,\n",
        " 0.92420327304048233,\n",
        " 0.92248062015503873,\n",
        " 0.92204995693367786,\n",
        " 0.9229112833763996,\n",
        " 0.92161929371231699,\n",
        " 0.92204995693367786,\n",
        " 0.92032730404823426,\n",
        " 0.92248062015503873,\n",
        " 0.92248062015503873,\n",
        " 0.92118863049095612,\n",
        " 0.92161929371231699,\n",
        " 0.92118863049095612,\n",
        " 0.92248062015503873]"
       ]
      }
     ],
     "prompt_number": 7
    },
    {
     "cell_type": "code",
     "collapsed": false,
     "input": [],
     "language": "python",
     "metadata": {},
     "outputs": []
    }
   ],
   "metadata": {}
  }
 ]
}