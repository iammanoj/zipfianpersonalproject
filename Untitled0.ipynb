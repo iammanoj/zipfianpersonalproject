{
 "metadata": {
  "name": ""
 },
 "nbformat": 3,
 "nbformat_minor": 0,
 "worksheets": [
  {
   "cells": [
    {
     "cell_type": "code",
     "collapsed": false,
     "input": [
      "import etl\n",
      "import pandas as pd\n",
      "from ggplot import *\n",
      "%pylab inline"
     ],
     "language": "python",
     "metadata": {},
     "outputs": [
      {
       "output_type": "stream",
       "stream": "stdout",
       "text": [
        "Populating the interactive namespace from numpy and matplotlib\n"
       ]
      },
      {
       "output_type": "stream",
       "stream": "stderr",
       "text": [
        "WARNING: pylab import has clobbered these variables: ['xlim', 'colors', 'ylim']\n",
        "`%pylab --no-import-all` prevents importing * from pylab and numpy\n"
       ]
      }
     ],
     "prompt_number": 25
    },
    {
     "cell_type": "code",
     "collapsed": false,
     "input": [
      "reload(etl)\n",
      "df1 = etl.main('jsonout/0.json')"
     ],
     "language": "python",
     "metadata": {},
     "outputs": [],
     "prompt_number": 34
    },
    {
     "cell_type": "code",
     "collapsed": false,
     "input": [
      "to_time = ['registered', 'recent_date1', 'recent_date2','recent_date3', 'recent_date4', 'recent_date5']\n",
      "for col in to_time:\n",
      "    df1[col] = pd.to_datetime(df1[col])"
     ],
     "language": "python",
     "metadata": {},
     "outputs": [],
     "prompt_number": 35
    },
    {
     "cell_type": "code",
     "collapsed": false,
     "input": [
      "subs = df1[df1['recent_date5'] != None]"
     ],
     "language": "python",
     "metadata": {},
     "outputs": [],
     "prompt_number": 36
    },
    {
     "cell_type": "code",
     "collapsed": false,
     "input": [
      "ggplot(aes(x = 'registered', y = 'id'), data = subs) + geom_point()"
     ],
     "language": "python",
     "metadata": {},
     "outputs": [
      {
       "metadata": {},
       "output_type": "pyout",
       "prompt_number": 38,
       "text": [
        "<ggplot: (282253933)>"
       ]
      },
      {
       "metadata": {},
       "output_type": "display_data",
       "png": "[encoded data removed]",
       "text": [
        "<matplotlib.figure.Figure at 0x115ee4d50>"
       ]
      }
     ],
     "prompt_number": 38
    },
    {
     "cell_type": "code",
     "collapsed": false,
     "input": [
      "subs.describe()"
     ],
     "language": "python",
     "metadata": {},
     "outputs": [
      {
       "html": [
        "<div style=\"max-height:1000px;max-width:1500px;overflow:auto;\">\n",
        "<table border=\"1\" class=\"dataframe\">\n",
        "  <thead>\n",
        "    <tr style=\"text-align: right;\">\n",
        "      <th></th>\n",
        "      <th>age</th>\n",
        "      <th>event_count</th>\n",
        "      <th>friend_count</th>\n",
        "      <th>image</th>\n",
        "      <th>playcount</th>\n",
        "      <th>playlists</th>\n",
        "      <th>subscriber</th>\n",
        "    </tr>\n",
        "  </thead>\n",
        "  <tbody>\n",
        "    <tr>\n",
        "      <th>count</th>\n",
        "      <td> 518.000000</td>\n",
        "      <td> 2442.000000</td>\n",
        "      <td> 2442.000000</td>\n",
        "      <td>      2442</td>\n",
        "      <td> 2442.000000</td>\n",
        "      <td> 2442.000000</td>\n",
        "      <td> 2442.000000</td>\n",
        "    </tr>\n",
        "    <tr>\n",
        "      <th>mean</th>\n",
        "      <td>  28.341699</td>\n",
        "      <td>    0.017609</td>\n",
        "      <td>    2.342342</td>\n",
        "      <td> 0.2878788</td>\n",
        "      <td>    0.003686</td>\n",
        "      <td>    0.322277</td>\n",
        "      <td>    0.003686</td>\n",
        "    </tr>\n",
        "    <tr>\n",
        "      <th>std</th>\n",
        "      <td>  11.380573</td>\n",
        "      <td>    0.249738</td>\n",
        "      <td>    7.621038</td>\n",
        "      <td> 0.4528671</td>\n",
        "      <td>    0.060609</td>\n",
        "      <td>    0.644953</td>\n",
        "      <td>    0.060609</td>\n",
        "    </tr>\n",
        "    <tr>\n",
        "      <th>min</th>\n",
        "      <td>   4.000000</td>\n",
        "      <td>    0.000000</td>\n",
        "      <td>    0.000000</td>\n",
        "      <td>     False</td>\n",
        "      <td>    0.000000</td>\n",
        "      <td>    0.000000</td>\n",
        "      <td>    0.000000</td>\n",
        "    </tr>\n",
        "    <tr>\n",
        "      <th>25%</th>\n",
        "      <td>  23.000000</td>\n",
        "      <td>    0.000000</td>\n",
        "      <td>    0.000000</td>\n",
        "      <td>         0</td>\n",
        "      <td>    0.000000</td>\n",
        "      <td>    0.000000</td>\n",
        "      <td>    0.000000</td>\n",
        "    </tr>\n",
        "    <tr>\n",
        "      <th>50%</th>\n",
        "      <td>  26.000000</td>\n",
        "      <td>    0.000000</td>\n",
        "      <td>    0.000000</td>\n",
        "      <td>         0</td>\n",
        "      <td>    0.000000</td>\n",
        "      <td>    0.000000</td>\n",
        "      <td>    0.000000</td>\n",
        "    </tr>\n",
        "    <tr>\n",
        "      <th>75%</th>\n",
        "      <td>  30.000000</td>\n",
        "      <td>    0.000000</td>\n",
        "      <td>    0.000000</td>\n",
        "      <td>         1</td>\n",
        "      <td>    0.000000</td>\n",
        "      <td>    1.000000</td>\n",
        "      <td>    0.000000</td>\n",
        "    </tr>\n",
        "    <tr>\n",
        "      <th>max</th>\n",
        "      <td> 113.000000</td>\n",
        "      <td>    5.000000</td>\n",
        "      <td>   50.000000</td>\n",
        "      <td>      True</td>\n",
        "      <td>    1.000000</td>\n",
        "      <td>    9.000000</td>\n",
        "      <td>    1.000000</td>\n",
        "    </tr>\n",
        "  </tbody>\n",
        "</table>\n",
        "</div>"
       ],
       "metadata": {},
       "output_type": "pyout",
       "prompt_number": 28,
       "text": [
        "              age  event_count  friend_count      image    playcount    playlists   subscriber\n",
        "count  518.000000  2442.000000   2442.000000       2442  2442.000000  2442.000000  2442.000000\n",
        "mean    28.341699     0.017609      2.342342  0.2878788     0.003686     0.322277     0.003686\n",
        "std     11.380573     0.249738      7.621038  0.4528671     0.060609     0.644953     0.060609\n",
        "min      4.000000     0.000000      0.000000      False     0.000000     0.000000     0.000000\n",
        "25%     23.000000     0.000000      0.000000          0     0.000000     0.000000     0.000000\n",
        "50%     26.000000     0.000000      0.000000          0     0.000000     0.000000     0.000000\n",
        "75%     30.000000     0.000000      0.000000          1     0.000000     1.000000     0.000000\n",
        "max    113.000000     5.000000     50.000000       True     1.000000     9.000000     1.000000"
       ]
      }
     ],
     "prompt_number": 28
    },
    {
     "cell_type": "code",
     "collapsed": false,
     "input": [],
     "language": "python",
     "metadata": {},
     "outputs": []
    }
   ],
   "metadata": {}
  }
 ]
}