{
 "metadata": {
  "name": ""
 },
 "nbformat": 3,
 "nbformat_minor": 0,
 "worksheets": [
  {
   "cells": [
    {
     "cell_type": "code",
     "collapsed": false,
     "input": [
      "import pandas as pd\n",
      "import numpy as np\n",
      "import time\n",
      "from datetime import datetime\n",
      "from sklearn.ensemble import RandomForestClassifier\n",
      "from sklearn.preprocessing import LabelEncoder\n",
      "import pdb"
     ],
     "language": "python",
     "metadata": {},
     "outputs": [],
     "prompt_number": 204
    },
    {
     "cell_type": "code",
     "collapsed": false,
     "input": [
      "df1 = pd.read_csv('ssvout/0.ssv', na_values='None')\n",
      "print sum(df1['subscriber'] == 1)\n",
      "df1 = df1.append(pd.read_csv('ssvout/5000.ssv', na_values='None'), ignore_index = True)\n",
      "print sum(df1['subscriber'] == 1)\n",
      "df1 = df1.append(pd.read_csv('ssvout/10000.ssv', na_values='None'), ignore_index = True)\n",
      "print sum(df1['subscriber'] == 1)\n",
      "df1 = df1.append(pd.read_csv('ssvout/15000.ssv', na_values='None'), ignore_index = True)\n",
      "print sum(df1['subscriber'] == 1)\n",
      "#df1 = df1.append(pd.read_csv('ssvout/20000.ssv', na_values='None'), ignore_index = True)\n",
      "#print sum(df1['subscriber'] == 1)\n"
     ],
     "language": "python",
     "metadata": {},
     "outputs": [
      {
       "output_type": "stream",
       "stream": "stdout",
       "text": [
        "254\n",
        "457"
       ]
      },
      {
       "output_type": "stream",
       "stream": "stdout",
       "text": [
        "\n",
        "691"
       ]
      },
      {
       "output_type": "stream",
       "stream": "stdout",
       "text": [
        "\n",
        "904"
       ]
      },
      {
       "output_type": "stream",
       "stream": "stdout",
       "text": [
        "\n"
       ]
      }
     ],
     "prompt_number": 273
    },
    {
     "cell_type": "code",
     "collapsed": false,
     "input": [
      "import model\n",
      "reload(model)"
     ],
     "language": "python",
     "metadata": {},
     "outputs": [
      {
       "metadata": {},
       "output_type": "pyout",
       "prompt_number": 274,
       "text": [
        "<module 'model' from 'model.py'>"
       ]
      }
     ],
     "prompt_number": 274
    },
    {
     "cell_type": "code",
     "collapsed": false,
     "input": [
      "df1 = model.time(df1)\n",
      "to_drop = ['recent_date1','recent_date2','recent_date3','recent_date4','recent_date5', 'playcount', 'registered']\n",
      "presence = ['country','gender']\n",
      "df2 = model.drop(df1, to_drop)\n",
      "df2 = model.nas(df2, presence)"
     ],
     "language": "python",
     "metadata": {},
     "outputs": [],
     "prompt_number": 275
    },
    {
     "cell_type": "code",
     "collapsed": false,
     "input": [
      "from sklearn.ensemble import RandomForestClassifier"
     ],
     "language": "python",
     "metadata": {},
     "outputs": [],
     "prompt_number": 270
    },
    {
     "cell_type": "code",
     "collapsed": false,
     "input": [
      "m = RandomForestClassifier()"
     ],
     "language": "python",
     "metadata": {},
     "outputs": [],
     "prompt_number": 271
    },
    {
     "cell_type": "code",
     "collapsed": false,
     "input": [
      "encoder_dict = {}\n",
      "encoded = pd.DataFrame(index = df2.index)\n",
      "for col in df2:\n",
      "    encoder = LabelEncoder()\n",
      "    encoder_dict[col] = encoder.fit(df2[col].tolist())\n",
      "    encoded[col] = encoder.transform(df2[col])\n"
     ],
     "language": "python",
     "metadata": {},
     "outputs": [],
     "prompt_number": 295
    },
    {
     "cell_type": "code",
     "collapsed": false,
     "input": [
      "encoded_target = encoded['subscriber']\n",
      "encoded_training = encoded.drop('subscriber', axis = 1)"
     ],
     "language": "python",
     "metadata": {},
     "outputs": [],
     "prompt_number": 296
    },
    {
     "cell_type": "code",
     "collapsed": false,
     "input": [
      "mod = m.fit(encoded_training, encoded_training)"
     ],
     "language": "python",
     "metadata": {},
     "outputs": [],
     "prompt_number": "*"
    },
    {
     "cell_type": "code",
     "collapsed": false,
     "input": [],
     "language": "python",
     "metadata": {},
     "outputs": []
    }
   ],
   "metadata": {}
  }
 ]
}