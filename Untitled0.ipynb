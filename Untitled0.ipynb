{
 "metadata": {
  "name": ""
 },
 "nbformat": 3,
 "nbformat_minor": 0,
 "worksheets": [
  {
   "cells": [
    {
     "cell_type": "code",
     "collapsed": false,
     "input": [
      "import pandas as pd\n",
      "import numpy as np\n",
      "from matplotlib import pyplot\n",
      "import pdb\n",
      "import model\n",
      "import random\n",
      "%pylab inline"
     ],
     "language": "python",
     "metadata": {},
     "outputs": [
      {
       "output_type": "stream",
       "stream": "stdout",
       "text": [
        "Populating the interactive namespace from numpy and matplotlib\n"
       ]
      },
      {
       "output_type": "stream",
       "stream": "stderr",
       "text": [
        "WARNING: pylab import has clobbered these variables: ['random', 'mod', 'test']\n",
        "`%pylab --no-import-all` prevents importing * from pylab and numpy\n"
       ]
      }
     ],
     "prompt_number": 37
    },
    {
     "cell_type": "code",
     "collapsed": false,
     "input": [
      "model.make_encoder()"
     ],
     "language": "python",
     "metadata": {},
     "outputs": [],
     "prompt_number": 10
    },
    {
     "cell_type": "code",
     "collapsed": false,
     "input": [
      "reload(model)"
     ],
     "language": "python",
     "metadata": {},
     "outputs": [
      {
       "metadata": {},
       "output_type": "pyout",
       "prompt_number": 5,
       "text": [
        "<module 'model' from 'model.py'>"
       ]
      }
     ],
     "prompt_number": 5
    },
    {
     "cell_type": "code",
     "collapsed": false,
     "input": [
      "'''\n",
      "look at the effect of increasing the number of trees\n",
      "to optimize: information gain, max features, etc\n",
      "'''\n",
      "# i = 1\n",
      "# cv_score = []\n",
      "# n_trees = []\n",
      "# while i < 50:\n",
      "#     i += 2\n",
      "#     n_trees.append(i)\n",
      "#     mod, top_features = model.growforest(encoded, i)\n",
      "#     cv_score.append(model.make_predictions(test_encoded, mod))\n",
      "# figure()\n",
      "# plot(n_trees, cv_score)\n",
      "    \n"
     ],
     "language": "python",
     "metadata": {},
     "outputs": [],
     "prompt_number": 5
    },
    {
     "cell_type": "code",
     "collapsed": false,
     "input": [
      "'''\n",
      "compare to svm\n",
      "'''\n",
      "# from sklearn.svm import SVC\n",
      "# clf = SVC()\n",
      "# svc_model = clf.fit(encoded_training, encoded_target)\n",
      "# solutions2, predictions2 = model.make_predictions(test_encoded, svc_model)\n",
      "# sum(np.array(solutions2) == predictions2)*1.0/len(predictions2)"
     ],
     "language": "python",
     "metadata": {},
     "outputs": [],
     "prompt_number": 55
    },
    {
     "cell_type": "code",
     "collapsed": false,
     "input": [
      "'''\n",
      "look at false positives when playcount is included\n",
      "'''\n",
      "to_drop = ['recent_date1','recent_date2','recent_date3','recent_date4',\n",
      "            'recent_date5','registered', 'id']\n",
      "# load the encoded data\n",
      "encoded, test_encoded = model.data(to_drop = to_drop)\n",
      "# make the model\n",
      "mod, top_features = model.growforest(encoded, num_trees = 100)\n",
      "# test against users who don't subscribe\n",
      "user = test_encoded[test_encoded['subscriber'] == 359]\n",
      "solutions, predictions, score = model.make_predictions(user, model = mod)\n",
      "false_pos = model.dencode(user[predictions != 359], decode = True)"
     ],
     "language": "python",
     "metadata": {},
     "outputs": [],
     "prompt_number": 18
    },
    {
     "cell_type": "code",
     "collapsed": false,
     "input": [
      "'''\n",
      "strip the count features to predict new users\n",
      "'''\n",
      "to_drop = ['recent_date1','recent_date2','recent_date3','recent_date4',\n",
      "            'recent_date5','registered', 'id', 'playcount', 'top_count1',\n",
      "            'top_count2', 'top_count3', 'top_count4', 'top_count5', 'friend_count']\n",
      "encoded, test_encoded = model.data(to_drop = to_drop)\n",
      "mod, top_features = model.growforest(encoded, num_trees = 100)\n",
      "solutions, predictions, score = model.make_predictions(test_encoded, model = mod)"
     ],
     "language": "python",
     "metadata": {},
     "outputs": []
    },
    {
     "cell_type": "code",
     "collapsed": false,
     "input": [
      "'''\n",
      "build model on invented class distribution\n",
      "'''\n",
      "reload(model)\n",
      "train, test = model.data()\n",
      "# get the training set index\n",
      "subscriber_index = train[train['subscriber'] == 153].index\n",
      "# randomly select users\n",
      "chosen = random.sample(list(subscriber_index), sum(train['subscriber'] == 359))\n",
      "# create a new training set with equal parts subsriber and users\n",
      "new_train = train.ix[chosen].append(train[train['subscriber'] == 359])\n",
      "# train the new model\n",
      "mod, top_features = model.growforest(new_train, 100)\n",
      "# test on only users\n",
      "user = test[test['subscriber'] == 153]\n",
      "solutions1, predictions1, score1 = model.make_predictions(user, model = mod)\n",
      "# the false positives are users that I predicted would be subscribers\n",
      "false_pos = model.dencode(user[predictions1 != 153], decode = True)\n",
      "# test only on subscribers\n",
      "subs = test[test['subscriber'] == 359]\n",
      "solutions2, predictions2, score2 = model.make_predictions(subs, model = mod)\n",
      "# the false negative are subscribers that I predicted would be users\n",
      "false_neg = model.dencode(subs[predictions2 != 359], decode = True)"
     ],
     "language": "python",
     "metadata": {},
     "outputs": [],
     "prompt_number": 128
    },
    {
     "cell_type": "code",
     "collapsed": false,
     "input": [
      "solutions3, predictions3, score3 = model.make_predictions(test, model = mod)"
     ],
     "language": "python",
     "metadata": {},
     "outputs": [],
     "prompt_number": 130
    },
    {
     "cell_type": "code",
     "collapsed": false,
     "input": [
      "score3"
     ],
     "language": "python",
     "metadata": {},
     "outputs": [
      {
       "metadata": {},
       "output_type": "pyout",
       "prompt_number": 131,
       "text": [
        "0.67700258397932822"
       ]
      }
     ],
     "prompt_number": 131
    },
    {
     "cell_type": "code",
     "collapsed": false,
     "input": [
      "test"
     ],
     "language": "python",
     "metadata": {},
     "outputs": [
      {
       "output_type": "stream",
       "stream": "stderr",
       "text": [
        "/Users/paul/anaconda/python.app/Contents/lib/python2.7/site-packages/pandas/core/config.py:570: DeprecationWarning: height has been deprecated.\n",
        "\n",
        "  warnings.warn(d.msg, DeprecationWarning)\n"
       ]
      },
      {
       "html": [
        "<pre>\n",
        "&lt;class 'pandas.core.frame.DataFrame'&gt;\n",
        "Int64Index: 2322 entries, 0 to 4999\n",
        "Data columns (total 35 columns):\n",
        "age                2322  non-null values\n",
        "country            2322  non-null values\n",
        "event_count        2322  non-null values\n",
        "friend_count       2322  non-null values\n",
        "gender             2322  non-null values\n",
        "image              2322  non-null values\n",
        "playcount          2322  non-null values\n",
        "playlists          2322  non-null values\n",
        "recent_artist1     2322  non-null values\n",
        "recent_artist2     2322  non-null values\n",
        "recent_artist3     2322  non-null values\n",
        "recent_artist4     2322  non-null values\n",
        "recent_artist5     2322  non-null values\n",
        "recent_track1      2322  non-null values\n",
        "recent_track2      2322  non-null values\n",
        "recent_track3      2322  non-null values\n",
        "recent_track4      2322  non-null values\n",
        "recent_track5      2322  non-null values\n",
        "subscriber         2322  non-null values\n",
        "tag1               2322  non-null values\n",
        "tag2               2322  non-null values\n",
        "tag3               2322  non-null values\n",
        "tag4               2322  non-null values\n",
        "tag5               2322  non-null values\n",
        "top_artist1        2322  non-null values\n",
        "top_artist2        2322  non-null values\n",
        "top_artist3        2322  non-null values\n",
        "top_artist4        2322  non-null values\n",
        "top_artist5        2322  non-null values\n",
        "top_count1         2322  non-null values\n",
        "top_count2         2322  non-null values\n",
        "top_count3         2322  non-null values\n",
        "top_count4         2322  non-null values\n",
        "top_count5         2322  non-null values\n",
        "hour_registered    2322  non-null values\n",
        "dtypes: int64(35)\n",
        "</pre>"
       ],
       "metadata": {},
       "output_type": "pyout",
       "prompt_number": 145,
       "text": [
        "<class 'pandas.core.frame.DataFrame'>\n",
        "Int64Index: 2322 entries, 0 to 4999\n",
        "Data columns (total 35 columns):\n",
        "age                2322  non-null values\n",
        "country            2322  non-null values\n",
        "event_count        2322  non-null values\n",
        "friend_count       2322  non-null values\n",
        "gender             2322  non-null values\n",
        "image              2322  non-null values\n",
        "playcount          2322  non-null values\n",
        "playlists          2322  non-null values\n",
        "recent_artist1     2322  non-null values\n",
        "recent_artist2     2322  non-null values\n",
        "recent_artist3     2322  non-null values\n",
        "recent_artist4     2322  non-null values\n",
        "recent_artist5     2322  non-null values\n",
        "recent_track1      2322  non-null values\n",
        "recent_track2      2322  non-null values\n",
        "recent_track3      2322  non-null values\n",
        "recent_track4      2322  non-null values\n",
        "recent_track5      2322  non-null values\n",
        "subscriber         2322  non-null values\n",
        "tag1               2322  non-null values\n",
        "tag2               2322  non-null values\n",
        "tag3               2322  non-null values\n",
        "tag4               2322  non-null values\n",
        "tag5               2322  non-null values\n",
        "top_artist1        2322  non-null values\n",
        "top_artist2        2322  non-null values\n",
        "top_artist3        2322  non-null values\n",
        "top_artist4        2322  non-null values\n",
        "top_artist5        2322  non-null values\n",
        "top_count1         2322  non-null values\n",
        "top_count2         2322  non-null values\n",
        "top_count3         2322  non-null values\n",
        "top_count4         2322  non-null values\n",
        "top_count5         2322  non-null values\n",
        "hour_registered    2322  non-null values\n",
        "dtypes: int64(35)"
       ]
      }
     ],
     "prompt_number": 145
    },
    {
     "cell_type": "code",
     "collapsed": false,
     "input": [],
     "language": "python",
     "metadata": {},
     "outputs": []
    }
   ],
   "metadata": {}
  }
 ]
}