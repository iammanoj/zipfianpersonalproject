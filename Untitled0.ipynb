{
 "metadata": {
  "name": ""
 },
 "nbformat": 3,
 "nbformat_minor": 0,
 "worksheets": [
  {
   "cells": [
    {
     "cell_type": "code",
     "collapsed": false,
     "input": [
      "import model\n",
      "import pandas as pd\n",
      "import numpy as np\n",
      "reload(model)\n",
      "from sklearn import metrics\n",
      "from random import sample"
     ],
     "language": "python",
     "metadata": {},
     "outputs": [],
     "prompt_number": 27
    },
    {
     "cell_type": "code",
     "collapsed": false,
     "input": [
      "train, target, test, solution = model.data()"
     ],
     "language": "python",
     "metadata": {},
     "outputs": [],
     "prompt_number": 5
    },
    {
     "cell_type": "code",
     "collapsed": false,
     "input": [
      "# undersample training data\n",
      "# get the training set index\n",
      "def balance(n):\n",
      "    subscriber_index = target[target == 1].index\n",
      "    user_index = target[target == 0].index\n",
      "    # randomly select users\n",
      "    chosen = sample(list(user_index), len(subscriber_index)*n)\n",
      "    # create a new training set with equal parts subsriber and users\n",
      "    under_trained = train.ix[list(subscriber_index) + chosen]\n",
      "    under_target = target.ix[list(subscriber_index) + list(chosen)]\n",
      "    # sanity checky\n",
      "    print sum(under_trained.index != under_target.index)\n",
      "    return under_trained, under_target"
     ],
     "language": "python",
     "metadata": {},
     "outputs": [],
     "prompt_number": "*"
    },
    {
     "cell_type": "code",
     "collapsed": false,
     "input": [
      "# RF on undersampled data set\n",
      "# for i in range(5):\n",
      "#     under_trained, under_target = balance(i)\n",
      "#     mod, top_features = model.growforest(under_trained, under_target, 100)\n",
      "#     solutions3, predictions3, score3 = model.make_predictions(test, solution, model = mod)\n",
      "#     print score3\n",
      "#     print metrics.confusion_matrix(solution, predictions3)\n",
      "under_trained, under_target = balance(1)\n",
      "mod, top_features = model.growforest(under_trained, under_target, 100)\n",
      "solutions3, predictions3, score3 = model.make_predictions(test, solution, model = mod)\n",
      "print score3\n",
      "print metrics.confusion_matrix(solution, predictions3)"
     ],
     "language": "python",
     "metadata": {},
     "outputs": []
    },
    {
     "cell_type": "code",
     "collapsed": false,
     "input": [
      "# Naive Bayes on undersampled data\n",
      "from sklearn.naive_bayes import MultinomialNB\n",
      "nb = MultinomialNB()\n",
      "nb.fit(under_trained + -1*(np.min(np.array(under_trained))), under_target)\n",
      "preds = nb.predict(test)\n",
      "print nb.score(test, solution)\n",
      "print metrics.confusion_matrix(solution, preds)"
     ],
     "language": "python",
     "metadata": {},
     "outputs": []
    },
    {
     "cell_type": "code",
     "collapsed": false,
     "input": [
      "from sklearn.svm import OneClassSVM\n",
      "# one class svm only on samples that don't subscribe\n",
      "new_index = target[target == 0].index\n",
      "new_train = train.ix[new_index]\n",
      "#new_target = target.ix[new_index]\n",
      "#oneclass = OneClassSVM()\n",
      "#oneclass.fit(new_train)\n",
      "#predictions = oneclass.predict(test)\n",
      "fixed = []\n",
      "for pred in predictions:\n",
      "    if pred == -1:\n",
      "        fixed.append(0)\n",
      "    else:\n",
      "        fixed.append(int(pred))\n",
      "fixed = pd.Series(fixed)\n",
      "print metrics.confusion_matrix(solution, fixed)\n",
      "print sum(fixed == solution)*1.0/len(solution)\n",
      "# pretty terrible"
     ],
     "language": "python",
     "metadata": {},
     "outputs": [
      {
       "output_type": "stream",
       "stream": "stdout",
       "text": [
        "[[1714 1767]\n",
        " [ 117  164]]\n",
        "0.499202551834\n"
       ]
      }
     ],
     "prompt_number": 29
    },
    {
     "cell_type": "code",
     "collapsed": false,
     "input": [
      "from sklearn.decomposition import ProbabilisticPCA\n",
      "pca = ProbabilisticPCA(n_components='mle')\n",
      "fitted = pca.fit_transform(train)\n",
      "pca.transform(test)"
     ],
     "language": "python",
     "metadata": {},
     "outputs": [],
     "prompt_number": "*"
    },
    {
     "cell_type": "code",
     "collapsed": false,
     "input": [
      "fitted.shape"
     ],
     "language": "python",
     "metadata": {},
     "outputs": [
      {
       "metadata": {},
       "output_type": "pyout",
       "prompt_number": 35,
       "text": [
        "(8776, 1202)"
       ]
      }
     ],
     "prompt_number": 35
    },
    {
     "cell_type": "code",
     "collapsed": false,
     "input": [],
     "language": "python",
     "metadata": {},
     "outputs": []
    }
   ],
   "metadata": {}
  }
 ]
}